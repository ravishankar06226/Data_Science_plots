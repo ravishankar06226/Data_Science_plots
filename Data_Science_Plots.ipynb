{
 "cells": [
  {
   "cell_type": "markdown",
   "metadata": {},
   "source": [
    "# Data Science plots"
   ]
  },
  {
   "cell_type": "code",
   "execution_count": 8,
   "metadata": {},
   "outputs": [],
   "source": [
    "# to import required library\n",
    "import pandas as pd\n",
    "import numpy as np\n",
    "import seaborn as sns\n",
    "import matplotlib.pyplot as plt\n",
    "%matplotlib inline"
   ]
  },
  {
   "cell_type": "code",
   "execution_count": 3,
   "metadata": {},
   "outputs": [
    {
     "data": {
      "text/html": [
       "<div>\n",
       "<style scoped>\n",
       "    .dataframe tbody tr th:only-of-type {\n",
       "        vertical-align: middle;\n",
       "    }\n",
       "\n",
       "    .dataframe tbody tr th {\n",
       "        vertical-align: top;\n",
       "    }\n",
       "\n",
       "    .dataframe thead th {\n",
       "        text-align: right;\n",
       "    }\n",
       "</style>\n",
       "<table border=\"1\" class=\"dataframe\">\n",
       "  <thead>\n",
       "    <tr style=\"text-align: right;\">\n",
       "      <th></th>\n",
       "      <th>Shop1</th>\n",
       "      <th>Shop2</th>\n",
       "      <th>Shop3</th>\n",
       "      <th>Shop4</th>\n",
       "    </tr>\n",
       "    <tr>\n",
       "      <th>Variables</th>\n",
       "      <th></th>\n",
       "      <th></th>\n",
       "      <th></th>\n",
       "      <th></th>\n",
       "    </tr>\n",
       "  </thead>\n",
       "  <tbody>\n",
       "    <tr>\n",
       "      <th>Var1</th>\n",
       "      <td>3.912188</td>\n",
       "      <td>4.013982</td>\n",
       "      <td>192.269645</td>\n",
       "      <td>184.176530</td>\n",
       "    </tr>\n",
       "    <tr>\n",
       "      <th>Var2</th>\n",
       "      <td>3.912188</td>\n",
       "      <td>2.006991</td>\n",
       "      <td>160.750031</td>\n",
       "      <td>89.702558</td>\n",
       "    </tr>\n",
       "    <tr>\n",
       "      <th>Var3</th>\n",
       "      <td>3.912188</td>\n",
       "      <td>6.020973</td>\n",
       "      <td>163.901993</td>\n",
       "      <td>110.696774</td>\n",
       "    </tr>\n",
       "    <tr>\n",
       "      <th>Var4</th>\n",
       "      <td>5.868282</td>\n",
       "      <td>11.038450</td>\n",
       "      <td>220.637298</td>\n",
       "      <td>138.370968</td>\n",
       "    </tr>\n",
       "    <tr>\n",
       "      <th>Var5</th>\n",
       "      <td>4.890235</td>\n",
       "      <td>4.013982</td>\n",
       "      <td>109.267995</td>\n",
       "      <td>75.388320</td>\n",
       "    </tr>\n",
       "  </tbody>\n",
       "</table>\n",
       "</div>"
      ],
      "text/plain": [
       "              Shop1      Shop2       Shop3       Shop4\n",
       "Variables                                             \n",
       "Var1       3.912188   4.013982  192.269645  184.176530\n",
       "Var2       3.912188   2.006991  160.750031   89.702558\n",
       "Var3       3.912188   6.020973  163.901993  110.696774\n",
       "Var4       5.868282  11.038450  220.637298  138.370968\n",
       "Var5       4.890235   4.013982  109.267995   75.388320"
      ]
     },
     "execution_count": 3,
     "metadata": {},
     "output_type": "execute_result"
    }
   ],
   "source": [
    "# read data into table\n",
    "df=pd.read_excel('sample_data_for_clustermap.xls',index_col='Variables')\n",
    "df.head()"
   ]
  },
  {
   "cell_type": "markdown",
   "metadata": {},
   "source": [
    "# Clustermap"
   ]
  },
  {
   "cell_type": "code",
   "execution_count": 7,
   "metadata": {},
   "outputs": [
    {
     "data": {
      "image/png": "[encoded data removed]",
      "text/plain": [
       "<Figure size 720x720 with 4 Axes>"
      ]
     },
     "metadata": {
      "needs_background": "light"
     },
     "output_type": "display_data"
    }
   ],
   "source": [
    "# log transformation of the dataframe\n",
    "all_log = np.log(df) \n",
    "# replacing -infinity and +infinity with NaN, then drop all those rows whose every entries are NaN\n",
    "all1 = all_log.replace([np.inf, -np.inf], np.nan).dropna(how=\"all\")\n",
    "# fill all NaN with 0\n",
    "all1.fillna(\"0\",inplace=True)\n",
    "# set all the column as float data type\n",
    "all_h = all1[all1.columns].astype(float)\n",
    "# the clustermap plot\n",
    "sns.clustermap(all_h, method=\"average\",cmap=\"PuOr_r\",cbar_kws={'label': 'log transformed Read count'},linewidths=0.2, linecolor='gray')\n",
    "# to save the plot\n",
    "plt.savefig('clustermap.png', dpi=300, bbox_inches='tight')"
   ]
  },
  {
   "cell_type": "code",
   "execution_count": null,
   "metadata": {},
   "outputs": [],
   "source": []
  }
 ],
 "metadata": {
  "kernelspec": {
   "display_name": "Python 3",
   "language": "python",
   "name": "python3"
  },
  "language_info": {
   "codemirror_mode": {
    "name": "ipython",
    "version": 3
   },
   "file_extension": ".py",
   "mimetype": "text/x-python",
   "name": "python",
   "nbconvert_exporter": "python",
   "pygments_lexer": "ipython3",
   "version": "3.7.3"
  }
 },
 "nbformat": 4,
 "nbformat_minor": 2
}
